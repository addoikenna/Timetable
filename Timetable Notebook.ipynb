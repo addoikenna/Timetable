{
 "cells": [
  {
   "cell_type": "markdown",
   "id": "2974d09d-30b5-4231-955b-4d1dc36dd4bd",
   "metadata": {},
   "source": [
    "# Timetable Generation\n",
    "\n",
    "This notebook provides a function to generate a timetable from a CSV or Excel file containing course information. The function ensures no time conflicts for courses with the same lecturer or within the same program.\n",
    "\n",
    "## Required Libraries\n",
    "- pandas: For data manipulation\n",
    "- numpy: For numerical operations\n",
    "- datetime: For handling time-related operations\n",
    "\n",
    "## Function: `generate_timetable`\n",
    "\n",
    "### Parameters:\n",
    "- `file_path`: Path to the input file (CSV or Excel)\n",
    "- `days`: Number of days to be included in the timetable\n",
    "- `start_time`: Start time for classes each day (e.g., '9am')\n",
    "- `end_time`: End time for classes each day (e.g., '5pm')\n",
    "\n",
    "### Returns:\n",
    "- A pandas DataFrame representing the structured timetable\n",
    "\n",
    "### Error Handling:\n",
    "- Ensures the input file is in a supported format (CSV or Excel)\n",
    "- Validates the presence of required columns\n",
    "- Manages time conflicts for lecturers and programs\n",
    "\n",
    "## Example Usage\n",
    "The example demonstrates how to use the function with a sample input file and parameters. The generated timetable is displayed in tabular format and saved to a CSV file.\n"
   ]
  },
  {
   "cell_type": "code",
   "execution_count": 28,
   "id": "926a1cbe-b8f3-45a6-8c37-61eb25f199bb",
   "metadata": {},
   "outputs": [
    {
     "name": "stdin",
     "output_type": "stream",
     "text": [
      "Enter the path to the CSV or Excel file:  student_timetable_sample.csv\n",
      "Enter the number of days to be included in the timetable:  5\n",
      "Enter the start time for classes each day (e.g., '9am'):  2pm\n",
      "Enter the end time for classes each day (e.g., '5pm'):  6pm\n"
     ]
    },
    {
     "name": "stdout",
     "output_type": "stream",
     "text": [
      "                                                02PM 03PM 04PM 05PM 06PM\n",
      "1  Mathematics I (Computer Science), Physics I (M...                    \n",
      "2  Mathematics I (Computer Science), Physics I (M...                    \n",
      "3  Mathematics I (Computer Science), Physics I (M...                    \n",
      "4  Mathematics I (Computer Science), Physics I (M...                    \n",
      "5  Mathematics I (Computer Science), Physics I (M...                    \n"
     ]
    }
   ],
   "source": [
    "# Import necessary libraries\n",
    "import pandas as pd\n",
    "import numpy as np\n",
    "from datetime import datetime, timedelta\n",
    "import itertools\n",
    "\n",
    "def generate_timetable(file_path, days, start_time, end_time):\n",
    "    \"\"\"\n",
    "    Generate a timetable from a CSV or Excel file.\n",
    "    \n",
    "    Parameters:\n",
    "    file_path (str): Path to the input file (CSV or Excel)\n",
    "    days (int): Number of days to be included in the timetable\n",
    "    start_time (str): Start time for classes each day (e.g., '9am')\n",
    "    end_time (str): End time for classes each day (e.g., '5pm')\n",
    "    \n",
    "    Returns:\n",
    "    pd.DataFrame: A DataFrame representing the structured timetable\n",
    "    \n",
    "    Raises:\n",
    "    ValueError: If the input file format is unsupported or required columns are missing\n",
    "    \"\"\"\n",
    "    try:\n",
    "        # Read the file\n",
    "        if file_path.endswith('.csv'):\n",
    "            data = pd.read_csv(file_path)\n",
    "        elif file_path.endswith('.xlsx'):\n",
    "            data = pd.read_excel(file_path)\n",
    "        else:\n",
    "            raise ValueError(\"Unsupported file format. Please use CSV or Excel file.\")\n",
    "        \n",
    "        # Check if required columns are present\n",
    "        required_columns = ['course name', 'course unit', 'lecture name', 'program']\n",
    "        if not all(column in data.columns for column in required_columns):\n",
    "            raise ValueError(f\"File must contain the following columns: {', '.join(required_columns)}\")\n",
    "        \n",
    "        # Convert start_time and end_time to datetime objects\n",
    "        start_time = datetime.strptime(start_time, '%I%p')\n",
    "        end_time = datetime.strptime(end_time, '%I%p')\n",
    "        time_slots = []\n",
    "        \n",
    "        # Generate time slots\n",
    "        current_time = start_time\n",
    "        while current_time < end_time:\n",
    "            time_slots.append(current_time.strftime('%I%p'))\n",
    "            current_time += timedelta(minutes=60)  # assuming each slot is 1 hour\n",
    "        time_slots.append(end_time.strftime('%I%p'))\n",
    "\n",
    "        # Initialize timetable dictionary\n",
    "        timetable = {time: {day: [] for day in range(1, days + 1)} for time in time_slots}\n",
    "\n",
    "        # Schedule courses\n",
    "        for _, row in data.iterrows():\n",
    "            scheduled = False\n",
    "            for time in time_slots:\n",
    "                for day in range(1, days + 1):\n",
    "                    if len(timetable[time][day]) == 0 or all(course['program'] != row['program'] and course['lecture name'] != row['lecture name'] for course in timetable[time][day]):\n",
    "                        timetable[time][day].append({'course name': row['course name'], 'program': row['program'], 'lecture name': row['lecture name']})\n",
    "                        scheduled = True\n",
    "                        break\n",
    "                if scheduled:\n",
    "                    break\n",
    "            if not scheduled:\n",
    "                raise ValueError(f\"Could not schedule course {row['course name']} without conflicts.\")\n",
    "        \n",
    "        # Convert timetable to DataFrame for display\n",
    "        timetable_df = pd.DataFrame(index=range(1, days + 1), columns=time_slots)\n",
    "        for time in timetable:\n",
    "            for day in timetable[time]:\n",
    "                courses = ', '.join([course['course name'] + ' (' + course['program'] + ')' for course in timetable[time][day]])\n",
    "                timetable_df.at[day, time] = courses\n",
    "\n",
    "        return timetable_df\n",
    "    except Exception as e:\n",
    "        print(f\"Error: {e}\")\n",
    "\n",
    "\n"
   ]
  },
  {
   "cell_type": "code",
   "execution_count": 4,
   "id": "f64d91d6-dce0-4f0e-bae4-e7aac364e3a6",
   "metadata": {},
   "outputs": [
    {
     "name": "stdin",
     "output_type": "stream",
     "text": [
      "Enter the path to the CSV or Excel file:  'student_timetable_sample.csv'\n",
      "Enter the number of days to be included in the timetable:  5\n",
      "Enter the start time for classes each day (e.g., '9am'):  '9am'\n",
      "Enter the end time for classes each day (e.g., '5pm'):  '2pm'\n"
     ]
    },
    {
     "name": "stdout",
     "output_type": "stream",
     "text": [
      "Error: Unsupported file format. Please use CSV or Excel file.\n",
      "None\n"
     ]
    }
   ],
   "source": [
    "# Prompt user for input\n",
    "file_path = input(\"Enter the path to the CSV or Excel file: \")\n",
    "days = int(input(\"Enter the number of days to be included in the timetable: \"))\n",
    "start_time = input(\"Enter the start time for classes each day (e.g., '9am'): \")\n",
    "end_time = input(\"Enter the end time for classes each day (e.g., '5pm'): \")\n",
    "\n",
    "# Generate and display timetable\n",
    "timetable_df = generate_timetable(file_path, days, start_time, end_time)\n",
    "print(timetable_df)\n"
   ]
  },
  {
   "cell_type": "code",
   "execution_count": 25,
   "id": "8f41c78a-5aea-4529-ba0f-a13a052b31f9",
   "metadata": {},
   "outputs": [
    {
     "name": "stdin",
     "output_type": "stream",
     "text": [
      "Enter the path to the CSV or Excel file:  student_timetable_sample.csv\n",
      "Enter the number of days to be included in the timetable:  5\n",
      "Enter the start time for classes each day (e.g., '9am'):  9am\n",
      "Enter the end time for classes each day (e.g., '5pm'):  2pm\n"
     ]
    }
   ],
   "source": [
    "# Prompt user for input\n",
    "file_path = input(\"Enter the path to the CSV or Excel file: \").strip()\n",
    "days = int(input(\"Enter the number of days to be included in the timetable: \"))\n",
    "start_time = input(\"Enter the start time for classes each day (e.g., '9am'): \").strip()\n",
    "end_time = input(\"Enter the end time for classes each day (e.g., '5pm'): \").strip()"
   ]
  },
  {
   "cell_type": "code",
   "execution_count": 27,
   "id": "6b19de9b-5d67-4560-a4f1-86551d1650d0",
   "metadata": {},
   "outputs": [
    {
     "data": {
      "text/html": [
       "<div>\n",
       "<style scoped>\n",
       "    .dataframe tbody tr th:only-of-type {\n",
       "        vertical-align: middle;\n",
       "    }\n",
       "\n",
       "    .dataframe tbody tr th {\n",
       "        vertical-align: top;\n",
       "    }\n",
       "\n",
       "    .dataframe thead th {\n",
       "        text-align: right;\n",
       "    }\n",
       "</style>\n",
       "<table border=\"1\" class=\"dataframe\">\n",
       "  <thead>\n",
       "    <tr style=\"text-align: right;\">\n",
       "      <th></th>\n",
       "      <th>1</th>\n",
       "      <th>2</th>\n",
       "      <th>3</th>\n",
       "      <th>4</th>\n",
       "      <th>5</th>\n",
       "    </tr>\n",
       "  </thead>\n",
       "  <tbody>\n",
       "    <tr>\n",
       "      <th>09AM</th>\n",
       "      <td>Mathematics I (Computer Science), Physics I (M...</td>\n",
       "      <td></td>\n",
       "      <td></td>\n",
       "      <td></td>\n",
       "      <td></td>\n",
       "    </tr>\n",
       "    <tr>\n",
       "      <th>10AM</th>\n",
       "      <td>Mathematics I (Computer Science), Physics I (M...</td>\n",
       "      <td></td>\n",
       "      <td></td>\n",
       "      <td></td>\n",
       "      <td></td>\n",
       "    </tr>\n",
       "    <tr>\n",
       "      <th>11AM</th>\n",
       "      <td>Mathematics I (Computer Science), Physics I (M...</td>\n",
       "      <td></td>\n",
       "      <td></td>\n",
       "      <td></td>\n",
       "      <td></td>\n",
       "    </tr>\n",
       "    <tr>\n",
       "      <th>12PM</th>\n",
       "      <td>Mathematics I (Computer Science), Physics I (M...</td>\n",
       "      <td></td>\n",
       "      <td></td>\n",
       "      <td></td>\n",
       "      <td></td>\n",
       "    </tr>\n",
       "    <tr>\n",
       "      <th>01PM</th>\n",
       "      <td>Mathematics I (Computer Science), Physics I (M...</td>\n",
       "      <td></td>\n",
       "      <td></td>\n",
       "      <td></td>\n",
       "      <td></td>\n",
       "    </tr>\n",
       "    <tr>\n",
       "      <th>02PM</th>\n",
       "      <td></td>\n",
       "      <td></td>\n",
       "      <td></td>\n",
       "      <td></td>\n",
       "      <td></td>\n",
       "    </tr>\n",
       "  </tbody>\n",
       "</table>\n",
       "</div>"
      ],
      "text/plain": [
       "                                                      1 2 3 4 5\n",
       "09AM  Mathematics I (Computer Science), Physics I (M...        \n",
       "10AM  Mathematics I (Computer Science), Physics I (M...        \n",
       "11AM  Mathematics I (Computer Science), Physics I (M...        \n",
       "12PM  Mathematics I (Computer Science), Physics I (M...        \n",
       "01PM  Mathematics I (Computer Science), Physics I (M...        \n",
       "02PM                                                           "
      ]
     },
     "execution_count": 27,
     "metadata": {},
     "output_type": "execute_result"
    }
   ],
   "source": [
    "# Generate and display timetable\n",
    "timetable_df = generate_timetable(file_path, days, start_time, end_time)\n",
    "timetable_df"
   ]
  },
  {
   "cell_type": "code",
   "execution_count": 22,
   "id": "8a3f3d6e-e362-4b05-ba86-571c9056dddb",
   "metadata": {},
   "outputs": [],
   "source": [
    "# Save the timetable to a CSV file\n",
    "timetable_df.to_csv('timetable.csv')"
   ]
  },
  {
   "cell_type": "code",
   "execution_count": null,
   "id": "c4a649ca-3fce-4134-8e60-a285412a06cd",
   "metadata": {},
   "outputs": [],
   "source": []
  }
 ],
 "metadata": {
  "kernelspec": {
   "display_name": "Python 3 (ipykernel)",
   "language": "python",
   "name": "python3"
  },
  "language_info": {
   "codemirror_mode": {
    "name": "ipython",
    "version": 3
   },
   "file_extension": ".py",
   "mimetype": "text/x-python",
   "name": "python",
   "nbconvert_exporter": "python",
   "pygments_lexer": "ipython3",
   "version": "3.11.7"
  }
 },
 "nbformat": 4,
 "nbformat_minor": 5
}
